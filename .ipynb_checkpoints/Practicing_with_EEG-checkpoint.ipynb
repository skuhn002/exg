{
 "cells": [
  {
   "cell_type": "code",
   "execution_count": 11,
   "metadata": {},
   "outputs": [],
   "source": [
    "import tkinter\n",
    "from tkinter import filedialog\n",
    "from scipy.io import wavfile"
   ]
  },
  {
   "cell_type": "code",
   "execution_count": 10,
   "metadata": {},
   "outputs": [],
   "source": [
    "import pandas as pd"
   ]
  },
  {
   "cell_type": "code",
   "execution_count": 8,
   "metadata": {},
   "outputs": [],
   "source": [
    "import EggPy as egg"
   ]
  },
  {
   "cell_type": "code",
   "execution_count": 2,
   "metadata": {},
   "outputs": [],
   "source": [
    "class exg():\n",
    "    def __init__(self):\n",
    "        root = tkinter.Tk()\n",
    "        root.withdraw()\n",
    "        self.raw_files = filedialog.askopenfiles(parent=root, mode='r',\n",
    "                                            filetypes=[(\"All files\", \"*\"),\n",
    "                                                        (\"BYB files\",\"BYB_Recording*.wav\"),\n",
    "                                                        (\"OpenBCI files\", [\"OpenBCI*.txt\", \"OpenBCI*.bdf\"]),\n",
    "                                                        (\"Excel file\",\"*.xls\")],\n",
    "                                             title='Choose an excel file')\n",
    "        if len(self.raw_files) > 0:\n",
    "            print(\"File(s): \")\n",
    "            for i in range(len(self.raw_files)):\n",
    "                print(\"\\t\" + self.raw_files[0].name)\n",
    "\n",
    "    def get_data(self, filepath, format='BYB', debug=False):\n",
    "        if format == 'BYB':\n",
    "            if 'BYB_Recording' not in filepath:\n",
    "                print('This may not be in BYB format')\n",
    "            sample_rate, Y = wavfile.read(filepath)\n",
    "            if debug:\n",
    "                print('Sample Rate: ' + str(sample_rate))\n",
    "                print(\"First 10 Samples: \" + str(Y[0:10]))\n",
    "            return sample_rate, Y\n",
    "\n",
    "    def prep_files(self):\n",
    "        self.files = []\n",
    "        for i in range(len(self.raw_files)):\n",
    "            print('File ' + str(i+1) + ': \\n\\t' + self.raw_files[i].name)\n",
    "            filename = self.raw_files[i].name\n",
    "            sample_rate, data = self.get_data(filename, format='BYB', debug=True)\n",
    "            this_file = {'filename': filename, 'sample_rate': sample_rate, 'data': data}\n",
    "            self.files.append(this_file)"
   ]
  },
  {
   "cell_type": "code",
   "execution_count": null,
   "metadata": {},
   "outputs": [],
   "source": [
    "EXG = exg()"
   ]
  },
  {
   "cell_type": "code",
   "execution_count": 17,
   "metadata": {},
   "outputs": [
    {
     "name": "stdout",
     "output_type": "stream",
     "text": [
      "This may not be in BYB format\n"
     ]
    }
   ],
   "source": [
    "sample_rate, data = EXG.get_data('data/Set 1/Null_Recording.wav')"
   ]
  },
  {
   "cell_type": "code",
   "execution_count": 18,
   "metadata": {},
   "outputs": [],
   "source": [
    "df = pd.DataFrame(data)"
   ]
  },
  {
   "cell_type": "code",
   "execution_count": 20,
   "metadata": {},
   "outputs": [
    {
     "data": {
      "text/plain": [
       "<AxesSubplot:>"
      ]
     },
     "execution_count": 20,
     "metadata": {},
     "output_type": "execute_result"
    },
    {
     "data": {
      "image/png": "[encoded data removed]",
      "text/plain": [
       "<Figure size 432x288 with 1 Axes>"
      ]
     },
     "metadata": {
      "needs_background": "light"
     },
     "output_type": "display_data"
    }
   ],
   "source": [
    "df.plot()"
   ]
  }
 ],
 "metadata": {
  "kernelspec": {
   "display_name": "Python 3",
   "language": "python",
   "name": "python3"
  },
  "language_info": {
   "codemirror_mode": {
    "name": "ipython",
    "version": 3
   },
   "file_extension": ".py",
   "mimetype": "text/x-python",
   "name": "python",
   "nbconvert_exporter": "python",
   "pygments_lexer": "ipython3",
   "version": "3.8.5"
  }
 },
 "nbformat": 4,
 "nbformat_minor": 4
}
