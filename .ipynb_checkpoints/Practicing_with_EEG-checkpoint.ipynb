{
 "cells": [
  {
   "cell_type": "code",
   "execution_count": 1,
   "metadata": {},
   "outputs": [],
   "source": [
    "import tkinter\n",
    "from tkinter import filedialog\n",
    "from scipy.io import wavfile"
   ]
  },
  {
   "cell_type": "code",
   "execution_count": 2,
   "metadata": {},
   "outputs": [],
   "source": [
    "import pandas as pd"
   ]
  },
  {
   "cell_type": "code",
   "execution_count": 3,
   "metadata": {},
   "outputs": [],
   "source": [
    "# import EggPy as egg"
   ]
  },
  {
   "cell_type": "code",
   "execution_count": 37,
   "metadata": {},
   "outputs": [],
   "source": [
    "import math\n",
    "import numpy as np\n",
    "import pandas as pd\n",
    "from pandas import DataFrame as df\n",
    "import scipy.signal as signal\n",
    "import matplotlib.pyplot as plt\n",
    "\n",
    "import plotly\n",
    "from scipy.fftpack import ifft, fft\n",
    "from scipy.io import wavfile\n",
    "import plotly.express as px\n",
    "from plotly.subplots import make_subplots\n",
    "import plotly.graph_objects as go\n",
    "\n",
    "class session():\n",
    "    # An object for storing data and metadata for one session of EEG recording\n",
    "    def __init__(self, filename):\n",
    "        self.f = filename\n",
    "        \n",
    "    def get_data(self, type='OpenBCI', fix=['OpenBCI-col_names']):\n",
    "        # Create a pandas dataframe with channel data (data_chns)\n",
    "        # fix:\n",
    "        #   - \"OpenBCI-col_names\" - removes spaces from column names and makes channel number's 1-indexed\n",
    "        if type == 'OpenBCI':\n",
    "            f = open(self.f)\n",
    "            self.meta = [f.readline() for i in range(4)]\n",
    "            self.n_chns = int(self.meta[1][22:])\n",
    "            self.fs = int(self.meta[2][15:18]) # sample rate\n",
    "\n",
    "            self.data_chns = pd.read_csv(self.f, skiprows=[0,1,2,3])\n",
    "            self.data_chns = self.data_chns.drop(columns=['Sample Index'])\n",
    "            \n",
    "            if 'OpenBCI-col_names' in fix:\n",
    "                for i in range(self.n_chns):\n",
    "                    self.data_chns = self.data_chns.rename(columns={self.data_chns.keys()[i]:'eeg_channel_'+str(i+1)})\n",
    "            \n",
    "            if 'Time' not in self.data_chns.keys():\n",
    "                self.data_chns.reset_index(inplace=True)\n",
    "                self.data_chns = self.data_chns.rename(columns={'index':'Time'})\n",
    "                self.data_chns['Time'] = self.data_chns['Time'].divide(self.fs)\n",
    "        if type == 'BYB':\n",
    "            self.fs, self.data_chns = wavfile.read(self.f)\n",
    "            print(self.data_chns)\n",
    "            print(np.shape(self.data_chns))\n",
    "            \n",
    "            try:\n",
    "                self.n_chns = np.shape(self.data_chns)[1]\n",
    "            except:\n",
    "                self.n_chns = 1                \n",
    "                    \n",
    "    def crop_data(self, upto=-1, after=-1):\n",
    "        # Crop the data upto or after a certain time in seconds\n",
    "        if upto > 0:\n",
    "            self.data_chns = self.data_chns.query('Time>=@upto')\n",
    "            print('Removed data upto ' + str(upto) + ' seconds.\\n')\n",
    "        if after > 0:\n",
    "            self.data_chns = self.data_chns.query('Time<=@after')\n",
    "            print('Removed data after ' + str(after) + ' seconds.\\n')\n",
    "    \n",
    "    def make_fft(self, test_fq=-1):\n",
    "        timestep = 1/self.fs\n",
    "        self.fft = df()\n",
    "        \n",
    "        NFFT = 0\n",
    "        exp = 1\n",
    "        while 2**exp < len(self.data_chns):\n",
    "            NFFT = 2**exp\n",
    "            exp += 1\n",
    "        \n",
    "        self.fft['Frequency'] = np.fft.fftfreq(NFFT)\n",
    "        self.fft['Frequency'] = np.fft.fftshift(self.fft['Frequency'])\n",
    "        self.fft = self.fft.query('Frequency>=0').mul(self.fs)\n",
    "#         self.fft['Frequency'] = self.fft['Frequency'].mul(self.fs)[NFFT//2:]\n",
    "#         self.fft = self.fft.query('Frequency>=0')\n",
    "        for i in range(self.n_chns):\n",
    "#             print(len(self.fft['Frequency']))\n",
    "#             print(len(np.fft.fft(self.data_chns['eeg_channel_'+str(i+1)], n=NFFT)[:(NFFT//2)]))\n",
    "            self.fft['eeg_channel_'+str(i+1)] = (np.real(np.fft.fft(self.data_chns['eeg_channel_'+str(i+1)], n=NFFT))**2)[:NFFT//2]\n",
    "        \n",
    "        if test_fq > 0:\n",
    "            if test_fq < self.fs/2:\n",
    "                self.test_fq = test_fq\n",
    "                self.data_chns[str(test_fq)+'_Hz_test_fq'] = [np.sin(test_fq*2*np.pi*i/self.fs) for i in range(len(self.data_chns))]\n",
    "                self.fft[str(test_fq)+'_Hz_test_fq'] = (np.real(np.fft.fft(self.data_chns[str(test_fq)+'_Hz_test_fq'], n=NFFT))**2)[:NFFT//2]\n",
    "            else:\n",
    "                print('WARNING: The test frequency is too high to be detected at a sample rate of '+str(self.fs)+' Hz.')\n",
    "                \n",
    "    \n",
    "    def plot(self, ver='', chns=[]):\n",
    "        # Plot the data in different helpful ways\n",
    "        # Versions:\n",
    "        #    pick-chns\n",
    "        #    all-chns-in-one\n",
    "        #    chn-grid\n",
    "        #    fq\n",
    "        #    fq-old\n",
    "        #    test-fft\n",
    "        #    byb-single\n",
    "        \n",
    "        if ver == 'pick-chns':\n",
    "            fig = go.Figure(layout=go.Layout(title=go.layout.Title(text=str(len(chns)) + ' EEG Channels')\n",
    "                        ))\n",
    "            \n",
    "            if len(chns) == 0:\n",
    "                chns = range(1, self.n_chns + 1)\n",
    "                print(chns)\n",
    "            for i in range(len(chns)):\n",
    "                fig.add_trace(go.Scatter(x=self.data_chns['Time'],\n",
    "                                            y=self.data_chns['eeg_channel_'+str(chns[i])],\n",
    "                                            mode='lines',\n",
    "                                            name='EEG Ch.'+str(chns[i])))\n",
    "            fig.show()\n",
    "\n",
    "        if ver == 'all-chns-in-one':\n",
    "            fig = go.Figure()\n",
    "            for i in range(self.n_chns):\n",
    "                fig.add_trace(go.Scatter(x=self.data_chns['Time'], y=self.data_chns['eeg_channel_'+str(i+1)],\n",
    "                        mode='lines',\n",
    "                        name='EEG Ch.'+str(i+1)))\n",
    "            fig.show()\n",
    "            \n",
    "        if ver == 'chn-grid':\n",
    "            if len(chns) == 0:\n",
    "                fig = make_subplots(rows=self.n_chns, cols=1,\n",
    "                                    vertical_spacing=0.01,\n",
    "                                    subplot_titles=['EEG Channel '+str(i+1) for i in range(self.n_chns)])\n",
    "                for i in range(self.n_chns):\n",
    "                    fig.append_trace(go.Scatter(x=self.data_chns['Time'],\n",
    "                                                y=self.data_chns['eeg_channel_'+str(i+1)],\n",
    "                                                mode='lines',\n",
    "                                                name='EEG Ch.'+str(i+1)),\n",
    "                                                row=i+1,\n",
    "                                                col=1)\n",
    "                fig.update_layout(height=300*self.n_chns, width=800, title_text=\"Data by Channel\")\n",
    "                fig.show()\n",
    "            else:\n",
    "                fig = make_subplots(rows=len(chns), cols=1,\n",
    "                                    vertical_spacing=0.2,\n",
    "                                    subplot_titles=['EEG Channel '+str(i+1) for i in range(len(chns))])\n",
    "                for i in range(len(chns)):\n",
    "                    fig.append_trace(go.Scatter(x=self.data_chns['Time'],\n",
    "                                                y=self.data_chns['eeg_channel_'+str(chns[i])],\n",
    "                                                mode='lines',\n",
    "                                                name='EEG Ch.'+str(chns[i])),\n",
    "                                                row=i+1,\n",
    "                                                col=1)\n",
    "                fig.update_layout(height=300*len(chns), width=800, title_text=\"Data by Channel\")\n",
    "                fig.show()\n",
    "                \n",
    "        if ver == 'fq-old':\n",
    "            for i in range(self.n_chns):\n",
    "#                 plt.plot(self.fft['Frequency'], self.fft['eeg_channel_'+str(i+1)])\n",
    "                plt.psd(self.data_chns['eeg_channel_'+str(i+1)], Fs=self.fs)\n",
    "                plt.show()\n",
    "        \n",
    "        if ver == 'fq':\n",
    "            if len(chns) == 0:\n",
    "                fig = go.Figure()\n",
    "                fig = make_subplots(rows=self.n_chns, cols=1,\n",
    "                                    vertical_spacing=0.01,\n",
    "                                    subplot_titles=['EEG Channel '+str(i+1) for i in range(self.n_chns)])\n",
    "                for i in range(self.n_chns):\n",
    "                    fig.append_trace(go.Scatter(x=self.fft['Frequency'], y=self.fft['eeg_channel_'+str(i+1)],\n",
    "                            mode='lines',\n",
    "                            name='EEG Ch.'+str(i+1)),\n",
    "                            row=i+1,\n",
    "                            col=1,)\n",
    "                fig.update_layout(height=300*self.n_chns, width=800, title_text=\"Data by Channel\")\n",
    "                fig.show()\n",
    "            else:\n",
    "                fig = go.Figure()\n",
    "                fig = make_subplots(rows=len(chns), cols=1,\n",
    "                                    vertical_spacing=0.15,\n",
    "                                    subplot_titles=['EEG Channel '+str(chns[i]) for i in range(len(chns))])\n",
    "                for i in range(len(chns)):\n",
    "                    fig.append_trace(go.Scatter(x=self.fft['Frequency'], y=self.fft['eeg_channel_'+str(chns[i])],\n",
    "                            mode='lines',\n",
    "                            name='EEG Ch.'+str(chns[i])),\n",
    "                            row=i+1,\n",
    "                            col=1,)\n",
    "                fig.update_layout(height=300*len(chns), width=800, title_text=\"Data by Channel\")\n",
    "                fig.show()\n",
    "                \n",
    "        if ver == 'test-fft':\n",
    "            n =len(S1.data_chns)\n",
    "\n",
    "            X = np.linspace(0, n/self.fs, n)\n",
    "#             Y = [np.sin(21*(2*np.pi)*i/S1.fs) for i in X]\n",
    "            Y = [np.sin(self.test_fq*2*np.pi*i) for i in X]\n",
    "            tst = df({'X':X, 'Y':Y})\n",
    "            fig = go.Figure()\n",
    "            fig.add_trace(go.Scatter(x=tst['X'], y=tst['Y'],\n",
    "                                    mode='lines',\n",
    "                                    name='Test Frequency (' + str(self.test_fq) + ' Hz)'))\n",
    "            fig.show()\n",
    "            \n",
    "            fig = go.Figure()\n",
    "            fig.add_trace(go.Scatter(x=self.fft['Frequency'], y=self.fft[str(self.test_fq)+'_Hz_test_fq'],\n",
    "                                     mode='lines',\n",
    "                                     name='Test Frequency (' + str(self.test_fq) + ' Hz)'))\n",
    "            fig.show()\n",
    "\n",
    "        if ver == 'byb-single':\n",
    "            print('BYB Single Plot')\n",
    "            print(self.data_chns)\n",
    "            df = pd.DataFrame(self.data_chns)\n",
    "            df.plot()\n",
    "                \n",
    "\n",
    "                \n",
    "\n",
    "    def preprocess(self, hpf=0, lpf=0, rmv_avg=False, inplace=True):\n",
    "        # Handle preprocessing to create a dataframe of processed data\n",
    "        # Scale the data from -1 to 1\n",
    "        # High-pass filter = hpf\n",
    "        # Low-pass filter = lpf\n",
    "        # Remove Average = rmv_avg\n",
    "        \n",
    "        # first_mod = True\n",
    "        \n",
    "        self.proc_data_chns = pd.DataFrame()\n",
    "        self.proc_data_chns['Time'] = self.data_chns['Time']\n",
    "        \n",
    "        self.s_factor = self.data_chns.drop(columns=self.data_chns.keys()[17:]).drop(columns='Time').max().max() # max val for all chns\n",
    "        for i in range(self.n_chns):\n",
    "            self.proc_data_chns['eeg_channel_'+str(i+1)] = self.data_chns['eeg_channel_'+str(i+1)].div(self.s_factor)\n",
    "\n",
    "        if rmv_avg:\n",
    "            for i in range(self.n_chns):\n",
    "                self.proc_data_chns['eeg_channel_'+str(i+1)] = self.proc_data_chns['eeg_channel_'+str(i+1)] - np.mean(self.proc_data_chns['eeg_channel_'+str(i+1)])\n",
    "#                 print(np.mean(self.data_chns['eeg_channel_'+str(i+1)]))\n",
    "\n",
    "        \n",
    "        if lpf > 0 and hpf > 0:\n",
    "            for i in range(self.n_chns):\n",
    "                b, a = signal.butter(2, lpf, 'low', fs=self.fs)\n",
    "                self.proc_data_chns['eeg_channel_'+str(i+1)] = signal.filtfilt(b, a, self.proc_data_chns['eeg_channel_'+str(i+1)])\n",
    "\n",
    "                b, a = signal.butter(2, hpf, 'high', fs=self.fs)\n",
    "                self.proc_data_chns['eeg_channel_'+str(i+1)] = signal.filtfilt(b, a, self.proc_data_chns['eeg_channel_'+str(i+1)])\n",
    "\n",
    "        elif lpf > 0:\n",
    "            for i in range(self.n_chns):\n",
    "                b, a = signal.butter(2, lpf, 'low', fs=self.fs)\n",
    "                self.proc_data_chns['eeg_channel_'+str(i+1)] = signal.filtfilt(b, a, self.proc_data_chns['eeg_channel_'+str(i+1)])\n",
    "        elif hpf > 0:\n",
    "            for i in range(self.n_chns):\n",
    "                b, a = signal.butter(2, hpf, 'high', fs=self.fs)\n",
    "                self.proc_data_chns['eeg_channel_'+str(i+1)] = signal.filtfilt(b, a, self.proc_data_chns['eeg_channel_'+str(i+1)])\n",
    "\n",
    "\n",
    "        if inplace:\n",
    "            self.data_chns = self.proc_data_chns\n",
    "        return self.proc_data_chns"
   ]
  },
  {
   "cell_type": "code",
   "execution_count": 38,
   "metadata": {},
   "outputs": [],
   "source": [
    "egg1 = session('F:/temp/scode2/exg/data/Set_1/Null_Recording.wav')\n",
    "# egg1 = session('OpenBCI-RAW-2021-08-13_18-03-39.txt')\n",
    "# egg1 = session('voluntary-motor-activity-1-2021-06-01_10.22.04.wav')\n",
    "# OpenBCI-RAW-2021-08-13_18-03-39.txt"
   ]
  },
  {
   "cell_type": "code",
   "execution_count": 39,
   "metadata": {},
   "outputs": [
    {
     "name": "stdout",
     "output_type": "stream",
     "text": [
      "[ -968  -938  -848 ... -1148 -1178 -1238]\n",
      "(196416,)\n"
     ]
    }
   ],
   "source": [
    "egg1.get_data(type='BYB')"
   ]
  },
  {
   "cell_type": "code",
   "execution_count": 40,
   "metadata": {},
   "outputs": [
    {
     "data": {
      "text/plain": [
       "196416"
      ]
     },
     "execution_count": 40,
     "metadata": {},
     "output_type": "execute_result"
    }
   ],
   "source": [
    "np.size(egg1.data_chns)"
   ]
  },
  {
   "cell_type": "code",
   "execution_count": 41,
   "metadata": {},
   "outputs": [
    {
     "name": "stdout",
     "output_type": "stream",
     "text": [
      "Exception\n"
     ]
    }
   ],
   "source": [
    "try:\n",
    "    np.shape(egg1.data_chns)[1]\n",
    "\n",
    "except:\n",
    "    print('Exception')"
   ]
  },
  {
   "cell_type": "code",
   "execution_count": 42,
   "metadata": {},
   "outputs": [
    {
     "name": "stdout",
     "output_type": "stream",
     "text": [
      "BYB Single Plot\n",
      "[ -968  -938  -848 ... -1148 -1178 -1238]\n"
     ]
    },
    {
     "data": {
      "image/png": "[encoded data removed]",
      "text/plain": [
       "<Figure size 640x480 with 1 Axes>"
      ]
     },
     "metadata": {},
     "output_type": "display_data"
    }
   ],
   "source": [
    "egg1.plot(ver='byb-single')"
   ]
  },
  {
   "cell_type": "code",
   "execution_count": 2,
   "metadata": {},
   "outputs": [],
   "source": [
    "class exg():\n",
    "    def __init__(self):\n",
    "        root = tkinter.Tk()\n",
    "        root.withdraw()\n",
    "        self.raw_files = filedialog.askopenfiles(parent=root, mode='r',\n",
    "                                            filetypes=[(\"All files\", \"*\"),\n",
    "                                                        (\"BYB files\",\"BYB_Recording*.wav\"),\n",
    "                                                        (\"OpenBCI files\", [\"OpenBCI*.txt\", \"OpenBCI*.bdf\"]),\n",
    "                                                        (\"Excel file\",\"*.xls\")],\n",
    "                                             title='Choose an excel file')\n",
    "        if len(self.raw_files) > 0:\n",
    "            print(\"File(s): \")\n",
    "            for i in range(len(self.raw_files)):\n",
    "                print(\"\\t\" + self.raw_files[0].name)\n",
    "\n",
    "    def get_data(self, filepath, format='BYB', debug=False):\n",
    "        if format == 'BYB':\n",
    "            if 'BYB_Recording' not in filepath:\n",
    "                print('This may not be in BYB format')\n",
    "            sample_rate, Y = wavfile.read(filepath)\n",
    "            if debug:\n",
    "                print('Sample Rate: ' + str(sample_rate))\n",
    "                print(\"First 10 Samples: \" + str(Y[0:10]))\n",
    "            return sample_rate, Y\n",
    "\n",
    "    def prep_files(self):\n",
    "        self.files = []\n",
    "        for i in range(len(self.raw_files)):\n",
    "            print('File ' + str(i+1) + ': \\n\\t' + self.raw_files[i].name)\n",
    "            filename = self.raw_files[i].name\n",
    "            sample_rate, data = self.get_data(filename, format='BYB', debug=True)\n",
    "            this_file = {'filename': filename, 'sample_rate': sample_rate, 'data': data}\n",
    "            self.files.append(this_file)"
   ]
  },
  {
   "cell_type": "code",
   "execution_count": 3,
   "metadata": {},
   "outputs": [
    {
     "name": "stdout",
     "output_type": "stream",
     "text": [
      "File(s): \n",
      "\tF:/temp/scode2/exg/Null_Recording.wav\n"
     ]
    }
   ],
   "source": [
    "EXG = exg()"
   ]
  },
  {
   "cell_type": "code",
   "execution_count": 4,
   "metadata": {},
   "outputs": [
    {
     "name": "stdout",
     "output_type": "stream",
     "text": [
      "This may not be in BYB format\n"
     ]
    }
   ],
   "source": [
    "# sample_rate, data = EXG.get_data('data/Set 1/Null_Recording.wav')\n",
    "sample_rate, data = EXG.get_data('Null_Recording.wav')"
   ]
  },
  {
   "cell_type": "code",
   "execution_count": 7,
   "metadata": {},
   "outputs": [],
   "source": [
    "df = pd.DataFrame(data)"
   ]
  },
  {
   "cell_type": "code",
   "execution_count": 8,
   "metadata": {},
   "outputs": [
    {
     "data": {
      "text/plain": [
       "<Axes: >"
      ]
     },
     "execution_count": 8,
     "metadata": {},
     "output_type": "execute_result"
    },
    {
     "data": {
      "image/png": "[encoded data removed]",
      "text/plain": [
       "<Figure size 640x480 with 1 Axes>"
      ]
     },
     "metadata": {},
     "output_type": "display_data"
    }
   ],
   "source": [
    "df.plot()"
   ]
  },
  {
   "cell_type": "markdown",
   "metadata": {},
   "source": [
    "# Frequency Analysis"
   ]
  },
  {
   "cell_type": "code",
   "execution_count": null,
   "metadata": {},
   "outputs": [],
   "source": []
  }
 ],
 "metadata": {
  "kernelspec": {
   "display_name": "Python 3 (ipykernel)",
   "language": "python",
   "name": "python3"
  },
  "language_info": {
   "codemirror_mode": {
    "name": "ipython",
    "version": 3
   },
   "file_extension": ".py",
   "mimetype": "text/x-python",
   "name": "python",
   "nbconvert_exporter": "python",
   "pygments_lexer": "ipython3",
   "version": "3.12.4"
  }
 },
 "nbformat": 4,
 "nbformat_minor": 4
}
